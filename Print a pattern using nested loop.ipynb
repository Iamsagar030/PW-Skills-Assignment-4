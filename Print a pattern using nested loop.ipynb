{
 "cells": [
  {
   "cell_type": "code",
   "execution_count": 1,
   "metadata": {},
   "outputs": [
    {
     "name": "stdout",
     "output_type": "stream",
     "text": [
      "          *           \n",
      "    * * * * * * *     \n",
      "  * * * * * * * * *   \n",
      "  * * * * * * * * *   \n",
      "  * * * * * * * * *   \n",
      "* * * * * * * * * * * \n",
      "  * * * * * * * * *   \n",
      "  * * * * * * * * *   \n",
      "  * * * * * * * * *   \n",
      "    * * * * * * *     \n",
      "          *           \n"
     ]
    }
   ],
   "source": [
    "radius = 5\n",
    "\n",
    "# Loop for each row\n",
    "for i in range(-radius, radius + 1):\n",
    "    # Loop for each column\n",
    "    for j in range(-radius, radius + 1):\n",
    "        # Calculate distance from center\n",
    "        distance = (i**2 + j**2)**0.5\n",
    "        \n",
    "        # Check if distance is within the radius\n",
    "        if distance <= radius:\n",
    "            print(\"*\", end=\" \")\n",
    "        else:\n",
    "            print(\" \", end=\" \")  # Print a space for points outside the circle\n",
    "    print()  # Move to the next line after each row\n"
   ]
  }
 ],
 "metadata": {
  "kernelspec": {
   "display_name": "Python 3",
   "language": "python",
   "name": "python3"
  },
  "language_info": {
   "codemirror_mode": {
    "name": "ipython",
    "version": 3
   },
   "file_extension": ".py",
   "mimetype": "text/x-python",
   "name": "python",
   "nbconvert_exporter": "python",
   "pygments_lexer": "ipython3",
   "version": "3.11.8"
  }
 },
 "nbformat": 4,
 "nbformat_minor": 2
}
