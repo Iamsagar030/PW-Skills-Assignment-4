{
 "cells": [
  {
   "cell_type": "code",
   "execution_count": 1,
   "metadata": {},
   "outputs": [
    {
     "name": "stdout",
     "output_type": "stream",
     "text": [
      "The sum of numbers from 1 to 10 is: 55\n"
     ]
    }
   ],
   "source": [
    "# Initialize variables\n",
    "number = 1\n",
    "total_sum = 0\n",
    "\n",
    "# Use a while loop to calculate the sum of numbers from 1 to 10\n",
    "while number <= 10:\n",
    "    total_sum += number\n",
    "    number += 1\n",
    "\n",
    "# Print the result\n",
    "print(\"The sum of numbers from 1 to 10 is:\", total_sum)\n"
   ]
  }
 ],
 "metadata": {
  "kernelspec": {
   "display_name": "Python 3",
   "language": "python",
   "name": "python3"
  },
  "language_info": {
   "codemirror_mode": {
    "name": "ipython",
    "version": 3
   },
   "file_extension": ".py",
   "mimetype": "text/x-python",
   "name": "python",
   "nbconvert_exporter": "python",
   "pygments_lexer": "ipython3",
   "version": "3.11.8"
  }
 },
 "nbformat": 4,
 "nbformat_minor": 2
}
